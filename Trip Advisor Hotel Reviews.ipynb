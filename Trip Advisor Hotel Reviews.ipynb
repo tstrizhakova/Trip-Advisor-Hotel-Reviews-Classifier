{
 "cells": [
  {
   "cell_type": "markdown",
   "id": "76769bd0",
   "metadata": {
    "id": "76769bd0"
   },
   "source": [
    "## Оценка тональности отзыва на отель"
   ]
  },
  {
   "cell_type": "markdown",
   "id": "57f7fd7e",
   "metadata": {},
   "source": [
    "Перед нами выборка с 20491 элементом. Проанализируем и построим классифкатор, который будет определять рейтинг отеля по отзыву, который о нем оставили."
   ]
  },
  {
   "cell_type": "markdown",
   "id": "aa6715cc",
   "metadata": {
    "id": "aa6715cc"
   },
   "source": [
    "* **Review** — отзыв на отель\n",
    "* **Rating** — оценка (количество звезд от 0 до 5)"
   ]
  },
  {
   "cell_type": "code",
   "execution_count": 2,
   "id": "29aefbcd",
   "metadata": {
    "id": "29aefbcd"
   },
   "outputs": [],
   "source": [
    "import warnings\n",
    "warnings.filterwarnings('ignore')\n",
    "import seaborn as sns\n",
    "import matplotlib.pyplot as plt\n",
    "%matplotlib inline\n",
    "import pandas as pd\n",
    "import numpy as np\n",
    "from collections import Counter\n",
    "import nltk\n",
    "from nltk.corpus import stopwords\n",
    "from nltk.stem import WordNetLemmatizer\n",
    "import sklearn.preprocessing\n",
    "from sklearn.model_selection import train_test_split\n",
    "from sklearn.feature_extraction.text import TfidfVectorizer\n",
    "from sklearn.decomposition import PCA\n",
    "from sklearn.linear_model import SGDRegressor\n",
    "from sklearn.linear_model import LogisticRegression\n",
    "from xgboost import XGBClassifier\n",
    "from sklearn.ensemble import RandomForestClassifier\n",
    "from sklearn.ensemble import GradientBoostingClassifier\n",
    "from sklearn.metrics import classification_report, accuracy_score"
   ]
  },
  {
   "cell_type": "code",
   "execution_count": 3,
   "id": "439a0e8f",
   "metadata": {
    "id": "439a0e8f"
   },
   "outputs": [],
   "source": [
    "data = pd.read_csv('tripadvisor_hotel_reviews.csv')"
   ]
  },
  {
   "cell_type": "code",
   "execution_count": 4,
   "id": "941c8a0f",
   "metadata": {
    "colab": {
     "base_uri": "https://localhost:8080/",
     "height": 203
    },
    "id": "941c8a0f",
    "outputId": "fecff198-ee71-484f-fc14-33d7ce266c98"
   },
   "outputs": [
    {
     "data": {
      "text/html": [
       "<div>\n",
       "<style scoped>\n",
       "    .dataframe tbody tr th:only-of-type {\n",
       "        vertical-align: middle;\n",
       "    }\n",
       "\n",
       "    .dataframe tbody tr th {\n",
       "        vertical-align: top;\n",
       "    }\n",
       "\n",
       "    .dataframe thead th {\n",
       "        text-align: right;\n",
       "    }\n",
       "</style>\n",
       "<table border=\"1\" class=\"dataframe\">\n",
       "  <thead>\n",
       "    <tr style=\"text-align: right;\">\n",
       "      <th></th>\n",
       "      <th>Review</th>\n",
       "      <th>Rating</th>\n",
       "    </tr>\n",
       "  </thead>\n",
       "  <tbody>\n",
       "    <tr>\n",
       "      <th>0</th>\n",
       "      <td>nice hotel expensive parking got good deal sta...</td>\n",
       "      <td>4</td>\n",
       "    </tr>\n",
       "    <tr>\n",
       "      <th>1</th>\n",
       "      <td>ok nothing special charge diamond member hilto...</td>\n",
       "      <td>2</td>\n",
       "    </tr>\n",
       "    <tr>\n",
       "      <th>2</th>\n",
       "      <td>nice rooms not 4* experience hotel monaco seat...</td>\n",
       "      <td>3</td>\n",
       "    </tr>\n",
       "    <tr>\n",
       "      <th>3</th>\n",
       "      <td>unique, great stay, wonderful time hotel monac...</td>\n",
       "      <td>5</td>\n",
       "    </tr>\n",
       "    <tr>\n",
       "      <th>4</th>\n",
       "      <td>great stay great stay, went seahawk game aweso...</td>\n",
       "      <td>5</td>\n",
       "    </tr>\n",
       "  </tbody>\n",
       "</table>\n",
       "</div>"
      ],
      "text/plain": [
       "                                              Review  Rating\n",
       "0  nice hotel expensive parking got good deal sta...       4\n",
       "1  ok nothing special charge diamond member hilto...       2\n",
       "2  nice rooms not 4* experience hotel monaco seat...       3\n",
       "3  unique, great stay, wonderful time hotel monac...       5\n",
       "4  great stay great stay, went seahawk game aweso...       5"
      ]
     },
     "execution_count": 4,
     "metadata": {},
     "output_type": "execute_result"
    }
   ],
   "source": [
    "data.head()"
   ]
  },
  {
   "cell_type": "code",
   "execution_count": 5,
   "id": "7e59146e",
   "metadata": {
    "colab": {
     "base_uri": "https://localhost:8080/"
    },
    "id": "7e59146e",
    "outputId": "dd0d7385-26e3-4bde-f910-7239e1be15ca"
   },
   "outputs": [
    {
     "name": "stdout",
     "output_type": "stream",
     "text": [
      "<class 'pandas.core.frame.DataFrame'>\n",
      "RangeIndex: 20491 entries, 0 to 20490\n",
      "Data columns (total 2 columns):\n",
      " #   Column  Non-Null Count  Dtype \n",
      "---  ------  --------------  ----- \n",
      " 0   Review  20491 non-null  object\n",
      " 1   Rating  20491 non-null  int64 \n",
      "dtypes: int64(1), object(1)\n",
      "memory usage: 320.3+ KB\n"
     ]
    }
   ],
   "source": [
    "data.info()"
   ]
  },
  {
   "cell_type": "markdown",
   "id": "02c1e821",
   "metadata": {
    "id": "02c1e821"
   },
   "source": [
    "### Визуальный анализ данных"
   ]
  },
  {
   "cell_type": "code",
   "execution_count": 6,
   "id": "3d88a657",
   "metadata": {
    "colab": {
     "base_uri": "https://localhost:8080/",
     "height": 295
    },
    "id": "3d88a657",
    "outputId": "fa7a4f94-7e5c-4ae1-b2c1-23456e0c2543"
   },
   "outputs": [
    {
     "data": {
      "image/png": "[encoded data removed]",
      "text/plain": [
       "<Figure size 792x288 with 1 Axes>"
      ]
     },
     "metadata": {
      "needs_background": "light"
     },
     "output_type": "display_data"
    }
   ],
   "source": [
    "fig, ax = plt.subplots(nrows=1, ncols=1, figsize=(11, 4))\n",
    "sns.countplot(data['Rating']);\n",
    "ax.set_title('Number of review');"
   ]
  },
  {
   "cell_type": "code",
   "execution_count": 7,
   "id": "d0e1e680",
   "metadata": {
    "colab": {
     "base_uri": "https://localhost:8080/",
     "height": 281
    },
    "id": "d0e1e680",
    "outputId": "9b58b736-4e64-4b1c-f0ed-9a24874ace1c"
   },
   "outputs": [
    {
     "data": {
      "image/png": "[encoded data removed]",
      "text/plain": [
       "<Figure size 720x288 with 1 Axes>"
      ]
     },
     "metadata": {
      "needs_background": "light"
     },
     "output_type": "display_data"
    }
   ],
   "source": [
    "fig, ax = plt.subplots(nrows=1, ncols=1, figsize=(10, 4))\n",
    "data['Rating'].value_counts(normalize=True).plot(kind='bar', rot=0, \n",
    "                                                             colormap='Accent', grid=True,\n",
    "                                                             ylabel='percent',\n",
    "                                                             title='Percent of review in each category');"
   ]
  },
  {
   "cell_type": "code",
   "execution_count": 4,
   "id": "b8f136fa",
   "metadata": {
    "colab": {
     "base_uri": "https://localhost:8080/",
     "height": 295
    },
    "id": "b8f136fa",
    "outputId": "b1577611-c54f-4858-c4cb-458810ce4dc8"
   },
   "outputs": [
    {
     "data": {
      "image/png": "[encoded data removed]",
      "text/plain": [
       "<Figure size 720x288 with 1 Axes>"
      ]
     },
     "metadata": {
      "needs_background": "light"
     },
     "output_type": "display_data"
    }
   ],
   "source": [
    "fig, ax = plt.subplots(nrows=1, ncols=1, figsize=(10, 4))\n",
    "sns.distplot(data['Review'].str.len());\n",
    "ax.set_title('Reviews length distribution');"
   ]
  },
  {
   "cell_type": "code",
   "execution_count": 9,
   "id": "466022d3",
   "metadata": {
    "colab": {
     "base_uri": "https://localhost:8080/",
     "height": 230
    },
    "id": "466022d3",
    "outputId": "6412baba-257c-4a01-82a1-247ab5a30227"
   },
   "outputs": [
    {
     "data": {
      "image/png": "[encoded data removed]",
      "text/plain": [
       "<Figure size 1008x288 with 1 Axes>"
      ]
     },
     "metadata": {
      "needs_background": "light"
     },
     "output_type": "display_data"
    }
   ],
   "source": [
    "fig, ax = plt.subplots(nrows=1, ncols=1, figsize=(14, 4))\n",
    "sns.boxplot(x=data['Rating'], y=data['Review'].str.len());"
   ]
  },
  {
   "cell_type": "code",
   "execution_count": 10,
   "id": "1a1c050e",
   "metadata": {
    "colab": {
     "base_uri": "https://localhost:8080/"
    },
    "id": "1a1c050e",
    "outputId": "07e62050-a9a0-4cba-fcfe-ddc8a0fcb11d"
   },
   "outputs": [
    {
     "data": {
      "text/plain": [
       "count    20491.000000\n",
       "mean       724.896833\n",
       "std        689.101024\n",
       "min         44.000000\n",
       "25%        339.000000\n",
       "50%        537.000000\n",
       "75%        859.000000\n",
       "max      13501.000000\n",
       "Name: Review, dtype: float64"
      ]
     },
     "execution_count": 10,
     "metadata": {},
     "output_type": "execute_result"
    }
   ],
   "source": [
    "data['Review'].str.len().describe()"
   ]
  },
  {
   "cell_type": "code",
   "execution_count": 11,
   "id": "c866ffca",
   "metadata": {
    "colab": {
     "base_uri": "https://localhost:8080/"
    },
    "id": "c866ffca",
    "outputId": "29d392d4-967b-499e-fa4c-3476c939a8aa"
   },
   "outputs": [
    {
     "data": {
      "text/plain": [
       "5"
      ]
     },
     "execution_count": 11,
     "metadata": {},
     "output_type": "execute_result"
    }
   ],
   "source": [
    "data_more10 = data[data['Review'].str.len() > 10000]\n",
    "len(data_more10)"
   ]
  },
  {
   "cell_type": "code",
   "execution_count": 6,
   "id": "011d4723",
   "metadata": {
    "id": "011d4723"
   },
   "outputs": [],
   "source": [
    "quantile_95 = data['Review'].str.len().quantile(0.95)\n",
    "data_95 = data[data['Review'].str.len() < quantile_95]"
   ]
  },
  {
   "cell_type": "code",
   "execution_count": 7,
   "id": "27cb86cd",
   "metadata": {
    "colab": {
     "base_uri": "https://localhost:8080/",
     "height": 295
    },
    "id": "27cb86cd",
    "outputId": "8b183fd7-c5ee-41fb-844d-bdad7e1006c7"
   },
   "outputs": [
    {
     "data": {
      "image/png": "[encoded data removed]",
      "text/plain": [
       "<Figure size 720x288 with 1 Axes>"
      ]
     },
     "metadata": {
      "needs_background": "light"
     },
     "output_type": "display_data"
    }
   ],
   "source": [
    "fig, ax = plt.subplots(nrows=1, ncols=1, figsize=(10, 4))\n",
    "sns.distplot(data_95['Review'].str.len());\n",
    "ax.set_title('Reviews length distribution');"
   ]
  },
  {
   "cell_type": "code",
   "execution_count": 14,
   "id": "61d0e909",
   "metadata": {
    "colab": {
     "base_uri": "https://localhost:8080/",
     "height": 246
    },
    "id": "61d0e909",
    "outputId": "19e2d930-900f-4401-85ef-ac622287f700"
   },
   "outputs": [
    {
     "data": {
      "image/png": "[encoded data removed]",
      "text/plain": [
       "<Figure size 1152x360 with 1 Axes>"
      ]
     },
     "metadata": {
      "needs_background": "light"
     },
     "output_type": "display_data"
    }
   ],
   "source": [
    "fig, ax = plt.subplots(nrows=1, ncols=1, figsize=(16, 5))\n",
    "sns.boxplot(x=data_95['Rating'], y=data_95['Review'].str.len());"
   ]
  },
  {
   "cell_type": "markdown",
   "id": "308ba8ae",
   "metadata": {
    "id": "308ba8ae"
   },
   "source": [
    "Из визуального анализа мы видим, что сильных аномалий в распределении признака нет. Положительных отзывов больше, чем негативных. Большинство отзывов небольшого размера, и преимущественно негативные отзывы длиннее.\n",
    "\n",
    "Выделим отдельный признак **Tone** — определим, что отзыв будет считаться положительным, если его рейтинг будет больше 3, все остальные считаем негативными."
   ]
  },
  {
   "cell_type": "code",
   "execution_count": 15,
   "id": "0ec6bf7b",
   "metadata": {
    "id": "0ec6bf7b"
   },
   "outputs": [],
   "source": [
    "def tone(score):\n",
    "    if score > 3:\n",
    "        return 1\n",
    "    else:\n",
    "        return 0"
   ]
  },
  {
   "cell_type": "code",
   "execution_count": 16,
   "id": "8ef3f512",
   "metadata": {
    "id": "8ef3f512"
   },
   "outputs": [],
   "source": [
    "data['Tone'] = data['Rating'].apply(tone)"
   ]
  },
  {
   "cell_type": "code",
   "execution_count": 17,
   "id": "f09c6acb",
   "metadata": {
    "colab": {
     "base_uri": "https://localhost:8080/",
     "height": 203
    },
    "id": "f09c6acb",
    "outputId": "22306bfd-d782-40eb-bac6-112aee9a1ca2"
   },
   "outputs": [
    {
     "data": {
      "text/html": [
       "<div>\n",
       "<style scoped>\n",
       "    .dataframe tbody tr th:only-of-type {\n",
       "        vertical-align: middle;\n",
       "    }\n",
       "\n",
       "    .dataframe tbody tr th {\n",
       "        vertical-align: top;\n",
       "    }\n",
       "\n",
       "    .dataframe thead th {\n",
       "        text-align: right;\n",
       "    }\n",
       "</style>\n",
       "<table border=\"1\" class=\"dataframe\">\n",
       "  <thead>\n",
       "    <tr style=\"text-align: right;\">\n",
       "      <th></th>\n",
       "      <th>Review</th>\n",
       "      <th>Rating</th>\n",
       "      <th>Tone</th>\n",
       "    </tr>\n",
       "  </thead>\n",
       "  <tbody>\n",
       "    <tr>\n",
       "      <th>0</th>\n",
       "      <td>nice hotel expensive parking got good deal sta...</td>\n",
       "      <td>4</td>\n",
       "      <td>1</td>\n",
       "    </tr>\n",
       "    <tr>\n",
       "      <th>1</th>\n",
       "      <td>ok nothing special charge diamond member hilto...</td>\n",
       "      <td>2</td>\n",
       "      <td>0</td>\n",
       "    </tr>\n",
       "    <tr>\n",
       "      <th>2</th>\n",
       "      <td>nice rooms not 4* experience hotel monaco seat...</td>\n",
       "      <td>3</td>\n",
       "      <td>0</td>\n",
       "    </tr>\n",
       "    <tr>\n",
       "      <th>3</th>\n",
       "      <td>unique, great stay, wonderful time hotel monac...</td>\n",
       "      <td>5</td>\n",
       "      <td>1</td>\n",
       "    </tr>\n",
       "    <tr>\n",
       "      <th>4</th>\n",
       "      <td>great stay great stay, went seahawk game aweso...</td>\n",
       "      <td>5</td>\n",
       "      <td>1</td>\n",
       "    </tr>\n",
       "  </tbody>\n",
       "</table>\n",
       "</div>"
      ],
      "text/plain": [
       "                                              Review  Rating  Tone\n",
       "0  nice hotel expensive parking got good deal sta...       4     1\n",
       "1  ok nothing special charge diamond member hilto...       2     0\n",
       "2  nice rooms not 4* experience hotel monaco seat...       3     0\n",
       "3  unique, great stay, wonderful time hotel monac...       5     1\n",
       "4  great stay great stay, went seahawk game aweso...       5     1"
      ]
     },
     "execution_count": 17,
     "metadata": {},
     "output_type": "execute_result"
    }
   ],
   "source": [
    "data.head()"
   ]
  },
  {
   "cell_type": "code",
   "execution_count": 18,
   "id": "af4e53bf",
   "metadata": {
    "colab": {
     "base_uri": "https://localhost:8080/",
     "height": 295
    },
    "id": "af4e53bf",
    "outputId": "24ccb055-4dba-47e3-97ec-439c29c756c9"
   },
   "outputs": [
    {
     "data": {
      "image/png": "[encoded data removed]",
      "text/plain": [
       "<Figure size 792x288 with 1 Axes>"
      ]
     },
     "metadata": {
      "needs_background": "light"
     },
     "output_type": "display_data"
    }
   ],
   "source": [
    "fig, ax = plt.subplots(nrows=1, ncols=1, figsize=(11, 4))\n",
    "sns.countplot(data['Tone']);\n",
    "ax.set_title('The number of positive and negative reviews');"
   ]
  },
  {
   "cell_type": "markdown",
   "id": "1a0ca508",
   "metadata": {},
   "source": [
    "Положительных отзывов почти в 2 раза больше, но попробуем для начала построить модель без применения балансировки классов."
   ]
  },
  {
   "cell_type": "markdown",
   "id": "91f765df",
   "metadata": {
    "id": "91f765df"
   },
   "source": [
    "### Очистка и подготовка текста"
   ]
  },
  {
   "cell_type": "markdown",
   "id": "536d86d2",
   "metadata": {
    "id": "536d86d2"
   },
   "source": [
    "#### Удаление символов"
   ]
  },
  {
   "cell_type": "code",
   "execution_count": 19,
   "id": "edbbf6b7",
   "metadata": {
    "colab": {
     "base_uri": "https://localhost:8080/"
    },
    "id": "edbbf6b7",
    "outputId": "6e9bc410-8322-40da-9d35-e8fa7de1b355"
   },
   "outputs": [
    {
     "data": {
      "text/plain": [
       "0     nice hotel expensive parking got good deal sta...\n",
       "1     ok nothing special charge diamond member hilto...\n",
       "2     nice rooms not 4* experience hotel monaco seat...\n",
       "3     unique, great stay, wonderful time hotel monac...\n",
       "4     great stay great stay, went seahawk game aweso...\n",
       "5     love monaco staff husband stayed hotel crazy w...\n",
       "6     cozy stay rainy city, husband spent 7 nights m...\n",
       "7     excellent staff, housekeeping quality hotel ch...\n",
       "8     hotel stayed hotel monaco cruise, rooms genero...\n",
       "9     excellent stayed hotel monaco past w/e delight...\n",
       "10    poor value stayed monaco seattle july, nice ho...\n",
       "Name: Review, dtype: object"
      ]
     },
     "execution_count": 19,
     "metadata": {},
     "output_type": "execute_result"
    }
   ],
   "source": [
    "data.loc[:10]['Review']"
   ]
  },
  {
   "cell_type": "markdown",
   "id": "ace6882c",
   "metadata": {
    "id": "ace6882c"
   },
   "source": [
    "Наша задача очистить отзывы от всех лишних слов и знаков препинания."
   ]
  },
  {
   "cell_type": "code",
   "execution_count": 20,
   "id": "b4fec02f",
   "metadata": {
    "id": "b4fec02f"
   },
   "outputs": [],
   "source": [
    "# удалим кавычки\n",
    "data['Cleaned_review'] = data['Review'].str.replace('\"', '')"
   ]
  },
  {
   "cell_type": "code",
   "execution_count": 21,
   "id": "9cd90f32",
   "metadata": {
    "id": "9cd90f32"
   },
   "outputs": [],
   "source": [
    "# переведем весь текс в нижний регистр\n",
    "data['Cleaned_review'] = data['Cleaned_review'].str.lower()"
   ]
  },
  {
   "cell_type": "code",
   "execution_count": 22,
   "id": "6daf23cc",
   "metadata": {
    "id": "6daf23cc"
   },
   "outputs": [],
   "source": [
    "# удалим знаки препинания\n",
    "punctuation_signs = list('?:!.,;')\n",
    "\n",
    "for sign in punctuation_signs:\n",
    "    data['Cleaned_review'] = data['Cleaned_review'].str.replace(sign, '')"
   ]
  },
  {
   "cell_type": "code",
   "execution_count": 23,
   "id": "12691466",
   "metadata": {
    "id": "12691466"
   },
   "outputs": [],
   "source": [
    "# удалим окончания притяжательных местоимений\n",
    "data['Cleaned_review'] = data['Cleaned_review'].str.replace(\"'s\", \"\")"
   ]
  },
  {
   "cell_type": "code",
   "execution_count": 24,
   "id": "6e59b11f",
   "metadata": {
    "colab": {
     "base_uri": "https://localhost:8080/"
    },
    "id": "6e59b11f",
    "outputId": "ec2bf257-1d14-4bea-c092-957dd7ad69da"
   },
   "outputs": [
    {
     "data": {
      "text/plain": [
       "0     nice hotel expensive parking got good deal sta...\n",
       "1     ok nothing special charge diamond member hilto...\n",
       "2     nice rooms not 4* experience hotel monaco seat...\n",
       "3     unique great stay wonderful time hotel monaco ...\n",
       "4     great stay great stay went seahawk game awesom...\n",
       "5     love monaco staff husband stayed hotel crazy w...\n",
       "6     cozy stay rainy city husband spent 7 nights mo...\n",
       "7     excellent staff housekeeping quality hotel cho...\n",
       "8     hotel stayed hotel monaco cruise rooms generou...\n",
       "9     excellent stayed hotel monaco past w/e delight...\n",
       "10    poor value stayed monaco seattle july nice hot...\n",
       "Name: Cleaned_review, dtype: object"
      ]
     },
     "execution_count": 24,
     "metadata": {},
     "output_type": "execute_result"
    }
   ],
   "source": [
    "data.loc[:10]['Cleaned_review']"
   ]
  },
  {
   "cell_type": "markdown",
   "id": "c753c70a",
   "metadata": {
    "id": "c753c70a"
   },
   "source": [
    "#### Стемминг и лемматизация"
   ]
  },
  {
   "cell_type": "code",
   "execution_count": 25,
   "id": "ec45e809",
   "metadata": {
    "colab": {
     "base_uri": "https://localhost:8080/"
    },
    "id": "ec45e809",
    "outputId": "0dadf861-5be7-4b12-c68c-bcec9fd66a00"
   },
   "outputs": [
    {
     "name": "stdout",
     "output_type": "stream",
     "text": [
      "[nltk_data] Downloading package punkt to /root/nltk_data...\n",
      "[nltk_data]   Unzipping tokenizers/punkt.zip.\n",
      "[nltk_data] Downloading package wordnet to /root/nltk_data...\n",
      "[nltk_data]   Unzipping corpora/wordnet.zip.\n"
     ]
    },
    {
     "data": {
      "text/plain": [
       "True"
      ]
     },
     "execution_count": 25,
     "metadata": {},
     "output_type": "execute_result"
    }
   ],
   "source": [
    "# Загрузим punkt and wordnet из NLTK\n",
    "nltk.download('punkt')\n",
    "nltk.download('wordnet')"
   ]
  },
  {
   "cell_type": "code",
   "execution_count": 26,
   "id": "642a975a",
   "metadata": {
    "id": "642a975a"
   },
   "outputs": [],
   "source": [
    "wordnet_lemmatizer = WordNetLemmatizer()"
   ]
  },
  {
   "cell_type": "code",
   "execution_count": 27,
   "id": "9d458c9e",
   "metadata": {
    "id": "9d458c9e"
   },
   "outputs": [],
   "source": [
    "nrows = len(data)\n",
    "lemmatized_text_list = []\n",
    "\n",
    "for row in range(0, nrows):\n",
    "    lemmatized_list = []\n",
    "    text = data.loc[row]['Cleaned_review']\n",
    "    text_words = text.split(' ')\n",
    "\n",
    "    for word in text_words:\n",
    "        lemmatized_list.append(wordnet_lemmatizer.lemmatize(word, pos='v'))\n",
    "        \n",
    "    lemmatized_text = ' '.join(lemmatized_list)\n",
    "    \n",
    "    lemmatized_text_list.append(lemmatized_text)"
   ]
  },
  {
   "cell_type": "code",
   "execution_count": 28,
   "id": "5848c1d4",
   "metadata": {
    "id": "5848c1d4"
   },
   "outputs": [],
   "source": [
    "data['Cleaned_review'] = lemmatized_text_list"
   ]
  },
  {
   "cell_type": "markdown",
   "id": "e160e7eb",
   "metadata": {
    "id": "e160e7eb"
   },
   "source": [
    "#### Стоп-слова"
   ]
  },
  {
   "cell_type": "code",
   "execution_count": 29,
   "id": "1e3a4414",
   "metadata": {
    "colab": {
     "base_uri": "https://localhost:8080/"
    },
    "id": "1e3a4414",
    "outputId": "e7ef942f-08e5-4863-b526-200b58b11936"
   },
   "outputs": [
    {
     "name": "stdout",
     "output_type": "stream",
     "text": [
      "[nltk_data] Downloading package stopwords to /root/nltk_data...\n",
      "[nltk_data]   Unzipping corpora/stopwords.zip.\n"
     ]
    },
    {
     "data": {
      "text/plain": [
       "True"
      ]
     },
     "execution_count": 29,
     "metadata": {},
     "output_type": "execute_result"
    }
   ],
   "source": [
    "# Загрузим список стоп-слов\n",
    "nltk.download('stopwords')"
   ]
  },
  {
   "cell_type": "code",
   "execution_count": 30,
   "id": "359e44b7",
   "metadata": {
    "id": "359e44b7"
   },
   "outputs": [],
   "source": [
    "stop_words = list(stopwords.words('english'))\n",
    "\n",
    "for stop_word in stop_words:\n",
    "    regex_stopword = r\"\\b\" + stop_word + r\"\\b\"\n",
    "    data['Cleaned_review'] = data['Cleaned_review'].str.replace(regex_stopword, '')"
   ]
  },
  {
   "cell_type": "code",
   "execution_count": 31,
   "id": "03c5b313",
   "metadata": {
    "colab": {
     "base_uri": "https://localhost:8080/"
    },
    "id": "03c5b313",
    "outputId": "f128547e-8f18-42fc-e45b-124c33f43d37"
   },
   "outputs": [
    {
     "data": {
      "text/plain": [
       "0     nice hotel expensive park get good deal stay h...\n",
       "1     ok nothing special charge diamond member hilto...\n",
       "2     nice room  4* experience hotel monaco seattle ...\n",
       "3     unique great stay wonderful time hotel monaco ...\n",
       "4     great stay great stay go seahawk game awesome ...\n",
       "5     love monaco staff husband stay hotel crazy wee...\n",
       "6     cozy stay rainy city husband spend 7 nights mo...\n",
       "7     excellent staff housekeep quality hotel chock ...\n",
       "8     hotel stay hotel monaco cruise room generous d...\n",
       "9     excellent stay hotel monaco past w/e delight r...\n",
       "10    poor value stay monaco seattle july nice hotel...\n",
       "Name: Cleaned_review, dtype: object"
      ]
     },
     "execution_count": 31,
     "metadata": {},
     "output_type": "execute_result"
    }
   ],
   "source": [
    "data.loc[:10]['Cleaned_review']"
   ]
  },
  {
   "cell_type": "markdown",
   "id": "8c737a50",
   "metadata": {},
   "source": [
    "Мы подготовили тексты — удалили лишние знаки препинания, стоп-слова, применили стемминг и лемматизацию. Отзывы готовы к дальнейшей предобработке и классификации."
   ]
  },
  {
   "cell_type": "markdown",
   "id": "57b7172a",
   "metadata": {
    "id": "57b7172a"
   },
   "source": [
    "### Разделение данных"
   ]
  },
  {
   "cell_type": "code",
   "execution_count": 32,
   "id": "70523409",
   "metadata": {
    "id": "70523409"
   },
   "outputs": [],
   "source": [
    "X = data['Cleaned_review']\n",
    "y = data['Tone']"
   ]
  },
  {
   "cell_type": "code",
   "execution_count": 33,
   "id": "f55195cd",
   "metadata": {
    "id": "f55195cd"
   },
   "outputs": [],
   "source": [
    "X_train, X_test, y_train, y_test = train_test_split(X, y, train_size=0.7,\n",
    "                                                    random_state=2, shuffle=True, stratify=y)"
   ]
  },
  {
   "cell_type": "code",
   "execution_count": 34,
   "id": "222e360b",
   "metadata": {
    "id": "222e360b"
   },
   "outputs": [],
   "source": [
    "X_test, X_valid, y_test, y_valid = train_test_split(X_test, y_test, train_size=0.5,\n",
    "                                                random_state=2, shuffle=True, stratify=y_test)"
   ]
  },
  {
   "cell_type": "markdown",
   "id": "4e8b335e",
   "metadata": {
    "id": "4e8b335e"
   },
   "source": [
    "### Текстовое представление"
   ]
  },
  {
   "cell_type": "code",
   "execution_count": 35,
   "id": "c39984ec",
   "metadata": {
    "id": "c39984ec"
   },
   "outputs": [],
   "source": [
    "# Parameter election\n",
    "ngram_range = (1,3)\n",
    "max_feat=10000"
   ]
  },
  {
   "cell_type": "code",
   "execution_count": 36,
   "id": "db9033ab",
   "metadata": {
    "colab": {
     "base_uri": "https://localhost:8080/"
    },
    "id": "db9033ab",
    "outputId": "39de4fba-11bb-4365-9d41-24d0ea5f7632"
   },
   "outputs": [
    {
     "name": "stdout",
     "output_type": "stream",
     "text": [
      "(14343, 10000)\n",
      "(3074, 10000)\n",
      "(3074, 10000)\n"
     ]
    }
   ],
   "source": [
    "tfidf = TfidfVectorizer(ngram_range=ngram_range,\n",
    "                        max_features=max_feat)\n",
    "                        \n",
    "features_train = tfidf.fit_transform(X_train).toarray()\n",
    "labels_train = y_train\n",
    "print(features_train.shape)\n",
    "\n",
    "features_valid = tfidf.transform(X_valid).toarray()\n",
    "labels_valid = y_valid\n",
    "print(features_valid.shape)\n",
    "\n",
    "features_test = tfidf.transform(X_test).toarray()\n",
    "labels_test = y_test\n",
    "print(features_test.shape)"
   ]
  },
  {
   "cell_type": "markdown",
   "id": "545d51d3",
   "metadata": {
    "id": "545d51d3"
   },
   "source": [
    "### Снижение размерности данных"
   ]
  },
  {
   "cell_type": "markdown",
   "id": "a365f06e",
   "metadata": {},
   "source": [
    "Уменьшим количество признаков, применив метод главных компонент."
   ]
  },
  {
   "cell_type": "code",
   "execution_count": 37,
   "id": "PLAjJWn8iXGy",
   "metadata": {
    "id": "PLAjJWn8iXGy"
   },
   "outputs": [],
   "source": [
    "features = np.concatenate((features_train, features_valid, features_test), axis=0)\n",
    "labels = np.concatenate((labels_train, labels_valid, labels_test), axis=0)"
   ]
  },
  {
   "cell_type": "code",
   "execution_count": 38,
   "id": "lXfrE71SiXsp",
   "metadata": {
    "colab": {
     "base_uri": "https://localhost:8080/"
    },
    "id": "lXfrE71SiXsp",
    "outputId": "55ab2f97-29d1-4299-e74f-0ee67ba771e7"
   },
   "outputs": [
    {
     "name": "stdout",
     "output_type": "stream",
     "text": [
      "We need 4872 components to explain 90% of variance\n"
     ]
    }
   ],
   "source": [
    "pca = PCA(0.9).fit(features)\n",
    "print('We need %d components to explain 90%% of variance' \n",
    "      % pca.n_components_)"
   ]
  },
  {
   "cell_type": "code",
   "execution_count": 39,
   "id": "kcZvDxOoiXyK",
   "metadata": {
    "colab": {
     "base_uri": "https://localhost:8080/"
    },
    "id": "kcZvDxOoiXyK",
    "outputId": "30604704-face-4fcd-ca86-f81babfedd1f"
   },
   "outputs": [
    {
     "data": {
      "text/plain": [
       "PCA(copy=True, iterated_power='auto', n_components=4900, random_state=None,\n",
       "    svd_solver='randomized', tol=0.0, whiten=False)"
      ]
     },
     "execution_count": 39,
     "metadata": {},
     "output_type": "execute_result"
    }
   ],
   "source": [
    "pca = PCA(n_components=4900, svd_solver='randomized')\n",
    "pca.fit(features_train)"
   ]
  },
  {
   "cell_type": "code",
   "execution_count": 40,
   "id": "t7jq6ZvuiX3j",
   "metadata": {
    "id": "t7jq6ZvuiX3j"
   },
   "outputs": [],
   "source": [
    "features_train_pca = pca.transform(features_train)\n",
    "features_valid_pca = pca.transform(features_valid)\n",
    "features_test_pca = pca.transform(features_test)"
   ]
  },
  {
   "cell_type": "markdown",
   "id": "fb3a7017",
   "metadata": {
    "id": "fb3a7017"
   },
   "source": [
    "### Обучение модели"
   ]
  },
  {
   "cell_type": "markdown",
   "id": "e5a39f3f",
   "metadata": {
    "id": "e5a39f3f"
   },
   "source": [
    "#### Logistic Regression"
   ]
  },
  {
   "cell_type": "code",
   "execution_count": 41,
   "id": "5J3kFZfR4cQx",
   "metadata": {
    "colab": {
     "base_uri": "https://localhost:8080/"
    },
    "id": "5J3kFZfR4cQx",
    "outputId": "732844fb-91da-41b7-b800-13b8e5c764c2"
   },
   "outputs": [
    {
     "data": {
      "text/plain": [
       "LogisticRegression(C=1.0, class_weight=None, dual=False, fit_intercept=True,\n",
       "                   intercept_scaling=1, l1_ratio=None, max_iter=100,\n",
       "                   multi_class='auto', n_jobs=-1, penalty='l2', random_state=2,\n",
       "                   solver='liblinear', tol=0.0001, verbose=0, warm_start=False)"
      ]
     },
     "execution_count": 41,
     "metadata": {},
     "output_type": "execute_result"
    }
   ],
   "source": [
    "lr = LogisticRegression(solver='liblinear', random_state=2, n_jobs=-1)\n",
    "lr.fit(features_train_pca, labels_train)"
   ]
  },
  {
   "cell_type": "code",
   "execution_count": 42,
   "id": "fpA6D08g-f51",
   "metadata": {
    "colab": {
     "base_uri": "https://localhost:8080/"
    },
    "id": "fpA6D08g-f51",
    "outputId": "bbbe0385-711d-4cd9-f182-fbdd0b3ee3c6"
   },
   "outputs": [
    {
     "name": "stdout",
     "output_type": "stream",
     "text": [
      "The training accuracy : 92.43 %\n",
      "The validation accuracy  : 90.37 %\n"
     ]
    }
   ],
   "source": [
    "print(\"The training accuracy : {:.2f} %\".format(accuracy_score(lr.predict(features_train_pca), labels_train)*100))\n",
    "print(\"The validation accuracy  : {:.2f} %\".format(accuracy_score(lr.predict(features_valid_pca), labels_valid)*100))"
   ]
  },
  {
   "cell_type": "code",
   "execution_count": 43,
   "id": "G2tfEciH-JLo",
   "metadata": {
    "id": "G2tfEciH-JLo"
   },
   "outputs": [],
   "source": [
    "train_acc_lr = accuracy_score(lr.predict(features_train_pca), labels_train) * 100\n",
    "valid_acc_lr = accuracy_score(lr.predict(features_valid_pca), labels_valid) * 100"
   ]
  },
  {
   "cell_type": "code",
   "execution_count": 56,
   "id": "a24aeacc",
   "metadata": {
    "id": "a24aeacc"
   },
   "outputs": [],
   "source": [
    "data_models = pd.DataFrame(columns = ['Training Set Accuracy', 'Validation Set Accuracy'])\n",
    "data_models.loc['Logistic Regression'] = [train_acc_lr, valid_acc_lr]"
   ]
  },
  {
   "cell_type": "markdown",
   "id": "3rm7xbYd_9bm",
   "metadata": {
    "id": "3rm7xbYd_9bm"
   },
   "source": [
    "#### XGBoost"
   ]
  },
  {
   "cell_type": "code",
   "execution_count": 45,
   "id": "egRxMzd6AEos",
   "metadata": {
    "colab": {
     "base_uri": "https://localhost:8080/"
    },
    "id": "egRxMzd6AEos",
    "outputId": "bcce00c1-6f35-4fa2-e586-23ce9e677fbe"
   },
   "outputs": [
    {
     "data": {
      "text/plain": [
       "XGBClassifier(base_score=0.5, booster='gbtree', colsample_bylevel=1,\n",
       "              colsample_bynode=1, colsample_bytree=1, gamma=0,\n",
       "              learning_rate=0.1, max_delta_step=0, max_depth=3,\n",
       "              min_child_weight=1, missing=None, n_estimators=100, n_jobs=1,\n",
       "              nthread=None, objective='binary:logistic', random_state=2,\n",
       "              reg_alpha=0, reg_lambda=1, scale_pos_weight=1, seed=None,\n",
       "              silent=None, subsample=1, verbosity=1)"
      ]
     },
     "execution_count": 45,
     "metadata": {},
     "output_type": "execute_result"
    }
   ],
   "source": [
    "xgb = XGBClassifier(random_state=2)\n",
    "xgb.fit(features_train_pca, labels_train)"
   ]
  },
  {
   "cell_type": "code",
   "execution_count": 46,
   "id": "-o6eYzRWAE8F",
   "metadata": {
    "colab": {
     "base_uri": "https://localhost:8080/"
    },
    "id": "-o6eYzRWAE8F",
    "outputId": "8105d876-5e50-4f26-eb42-c44018cb9342"
   },
   "outputs": [
    {
     "name": "stdout",
     "output_type": "stream",
     "text": [
      "The training accuracy : 88.87 %\n",
      "The validation accuracy  : 87.67 %\n"
     ]
    }
   ],
   "source": [
    "print(\"The training accuracy : {:.2f} %\".format(accuracy_score(xgb.predict(features_train_pca), labels_train)*100))\n",
    "print(\"The validation accuracy  : {:.2f} %\".format(accuracy_score(xgb.predict(features_valid_pca), labels_valid)*100))"
   ]
  },
  {
   "cell_type": "code",
   "execution_count": 47,
   "id": "ozjjEcW6AE2i",
   "metadata": {
    "id": "ozjjEcW6AE2i"
   },
   "outputs": [],
   "source": [
    "train_acc_xgb = accuracy_score(xgb.predict(features_train_pca), labels_train) * 100\n",
    "valid_acc_xgb = accuracy_score(xgb.predict(features_valid_pca), labels_valid) * 100"
   ]
  },
  {
   "cell_type": "code",
   "execution_count": 66,
   "id": "3MUhSzlyAWRp",
   "metadata": {
    "id": "3MUhSzlyAWRp"
   },
   "outputs": [],
   "source": [
    "data_models.loc['XGBoost'] = [train_acc_xgb, valid_acc_xgb]"
   ]
  },
  {
   "cell_type": "markdown",
   "id": "73d03163",
   "metadata": {
    "id": "73d03163"
   },
   "source": [
    "#### Random Forest Classifier"
   ]
  },
  {
   "cell_type": "code",
   "execution_count": 49,
   "id": "63084197",
   "metadata": {
    "colab": {
     "base_uri": "https://localhost:8080/"
    },
    "id": "63084197",
    "outputId": "5b6278e4-759c-4aaf-c225-dd8d0151c6e6"
   },
   "outputs": [
    {
     "data": {
      "text/plain": [
       "RandomForestClassifier(bootstrap=True, ccp_alpha=0.0, class_weight=None,\n",
       "                       criterion='gini', max_depth=None, max_features='auto',\n",
       "                       max_leaf_nodes=None, max_samples=None,\n",
       "                       min_impurity_decrease=0.0, min_impurity_split=None,\n",
       "                       min_samples_leaf=1, min_samples_split=2,\n",
       "                       min_weight_fraction_leaf=0.0, n_estimators=100,\n",
       "                       n_jobs=-1, oob_score=False, random_state=2, verbose=0,\n",
       "                       warm_start=False)"
      ]
     },
     "execution_count": 49,
     "metadata": {},
     "output_type": "execute_result"
    }
   ],
   "source": [
    "rfc= RandomForestClassifier(random_state=2,n_jobs=-1)\n",
    "rfc.fit(features_train_pca, labels_train)"
   ]
  },
  {
   "cell_type": "code",
   "execution_count": 50,
   "id": "60fff5c4",
   "metadata": {
    "colab": {
     "base_uri": "https://localhost:8080/"
    },
    "id": "60fff5c4",
    "outputId": "9e93ca5e-6812-41bb-f9d3-da9d8343a92b"
   },
   "outputs": [
    {
     "name": "stdout",
     "output_type": "stream",
     "text": [
      "The training accuracy : 100.00 %\n",
      "The validation accuracy  : 74.40 %\n"
     ]
    }
   ],
   "source": [
    "print(\"The training accuracy : {:.2f} %\".format(accuracy_score(rfc.predict(features_train_pca), labels_train)*100))\n",
    "print(\"The validation accuracy  : {:.2f} %\".format(accuracy_score(rfc.predict(features_valid_pca), labels_valid)*100))"
   ]
  },
  {
   "cell_type": "code",
   "execution_count": 51,
   "id": "f829f152",
   "metadata": {
    "id": "f829f152"
   },
   "outputs": [],
   "source": [
    "train_acc_rfc = accuracy_score(rfc.predict(features_train_pca), labels_train) * 100\n",
    "valid_acc_rfc = accuracy_score(rfc.predict(features_valid_pca), labels_valid) * 100"
   ]
  },
  {
   "cell_type": "code",
   "execution_count": 67,
   "id": "905c58a7",
   "metadata": {
    "id": "905c58a7"
   },
   "outputs": [],
   "source": [
    "data_models.loc['Random Forest Classifier'] = [train_acc_rfc, valid_acc_rfc]"
   ]
  },
  {
   "cell_type": "markdown",
   "id": "ab03b0bf",
   "metadata": {
    "id": "ab03b0bf"
   },
   "source": [
    "#### Multinomial Naive Bayes"
   ]
  },
  {
   "cell_type": "code",
   "execution_count": 59,
   "id": "7tOBMydS1Crc",
   "metadata": {
    "id": "7tOBMydS1Crc"
   },
   "outputs": [],
   "source": [
    "from sklearn.naive_bayes import MultinomialNB"
   ]
  },
  {
   "cell_type": "code",
   "execution_count": 60,
   "id": "d5c173b9",
   "metadata": {
    "colab": {
     "base_uri": "https://localhost:8080/"
    },
    "id": "d5c173b9",
    "outputId": "0f60636b-bdb4-4758-a927-43d0c4090033"
   },
   "outputs": [
    {
     "data": {
      "text/plain": [
       "MultinomialNB(alpha=1.0, class_prior=None, fit_prior=True)"
      ]
     },
     "execution_count": 60,
     "metadata": {},
     "output_type": "execute_result"
    }
   ],
   "source": [
    "mnb = MultinomialNB()\n",
    "mnb.fit(features_train, labels_train)"
   ]
  },
  {
   "cell_type": "code",
   "execution_count": 62,
   "id": "Ow597syn5SGs",
   "metadata": {
    "colab": {
     "base_uri": "https://localhost:8080/"
    },
    "id": "Ow597syn5SGs",
    "outputId": "88ab350f-ab4f-4df0-8e73-e3d1300d3078"
   },
   "outputs": [
    {
     "name": "stdout",
     "output_type": "stream",
     "text": [
      "The training accuracy is : 88.74 %\n",
      "The validation accuracy is : 87.38 %\n"
     ]
    }
   ],
   "source": [
    "print(\"The training accuracy is : {:.2f} %\".format(accuracy_score(mnb.predict(features_train), labels_train)*100))\n",
    "print(\"The validation accuracy is : {:.2f} %\".format(accuracy_score(mnb.predict(features_valid), labels_valid)*100))"
   ]
  },
  {
   "cell_type": "code",
   "execution_count": 63,
   "id": "lclSfvnr_Qgz",
   "metadata": {
    "id": "lclSfvnr_Qgz"
   },
   "outputs": [],
   "source": [
    "train_acc_mnb = accuracy_score(mnb.predict(features_train), labels_train) * 100\n",
    "valid_acc_mnb = accuracy_score(mnb.predict(features_valid), labels_valid) * 100"
   ]
  },
  {
   "cell_type": "code",
   "execution_count": 64,
   "id": "aeddd752",
   "metadata": {
    "id": "aeddd752"
   },
   "outputs": [],
   "source": [
    "data_models.loc['Multinomial Naive Bayes'] = [train_acc_mnb, valid_acc_mnb]"
   ]
  },
  {
   "cell_type": "code",
   "execution_count": 68,
   "id": "2facf023",
   "metadata": {
    "colab": {
     "base_uri": "https://localhost:8080/",
     "height": 172
    },
    "id": "2facf023",
    "outputId": "3155d848-d915-4e77-fd59-5aab984e6c9c"
   },
   "outputs": [
    {
     "data": {
      "text/html": [
       "<div>\n",
       "<style scoped>\n",
       "    .dataframe tbody tr th:only-of-type {\n",
       "        vertical-align: middle;\n",
       "    }\n",
       "\n",
       "    .dataframe tbody tr th {\n",
       "        vertical-align: top;\n",
       "    }\n",
       "\n",
       "    .dataframe thead th {\n",
       "        text-align: right;\n",
       "    }\n",
       "</style>\n",
       "<table border=\"1\" class=\"dataframe\">\n",
       "  <thead>\n",
       "    <tr style=\"text-align: right;\">\n",
       "      <th></th>\n",
       "      <th>Training Set Accuracy</th>\n",
       "      <th>Validation Set Accuracy</th>\n",
       "    </tr>\n",
       "  </thead>\n",
       "  <tbody>\n",
       "    <tr>\n",
       "      <th>Logistic Regression</th>\n",
       "      <td>92.428362</td>\n",
       "      <td>90.370852</td>\n",
       "    </tr>\n",
       "    <tr>\n",
       "      <th>Multinomial Naive Bayes</th>\n",
       "      <td>88.740152</td>\n",
       "      <td>87.378009</td>\n",
       "    </tr>\n",
       "    <tr>\n",
       "      <th>XGBoost</th>\n",
       "      <td>88.865649</td>\n",
       "      <td>87.670787</td>\n",
       "    </tr>\n",
       "    <tr>\n",
       "      <th>Random Forest Classifier</th>\n",
       "      <td>100.000000</td>\n",
       "      <td>74.398178</td>\n",
       "    </tr>\n",
       "  </tbody>\n",
       "</table>\n",
       "</div>"
      ],
      "text/plain": [
       "                          Training Set Accuracy  Validation Set Accuracy\n",
       "Logistic Regression                   92.428362                90.370852\n",
       "Multinomial Naive Bayes               88.740152                87.378009\n",
       "XGBoost                               88.865649                87.670787\n",
       "Random Forest Classifier             100.000000                74.398178"
      ]
     },
     "execution_count": 68,
     "metadata": {},
     "output_type": "execute_result"
    }
   ],
   "source": [
    "data_models.head()"
   ]
  },
  {
   "cell_type": "markdown",
   "id": "46dab3da",
   "metadata": {},
   "source": [
    "Опираясь на точность, остановим свой выбор на модели логистической регрессии. Проверим, какие будут результаты на тестовой выборке."
   ]
  },
  {
   "cell_type": "code",
   "execution_count": 70,
   "id": "TXDUWo67sDdH",
   "metadata": {
    "colab": {
     "base_uri": "https://localhost:8080/"
    },
    "id": "TXDUWo67sDdH",
    "outputId": "58437d02-b840-461f-8af3-8a67bc0a9a80"
   },
   "outputs": [
    {
     "name": "stdout",
     "output_type": "stream",
     "text": [
      "The test accuracy is : 89.23 %\n"
     ]
    }
   ],
   "source": [
    "print(\"The test accuracy is : {:.2f} %\".format(accuracy_score(lr.predict(features_test_pca), labels_test)*100))"
   ]
  }
 ],
 "metadata": {
  "accelerator": "TPU",
  "colab": {
   "collapsed_sections": [],
   "name": "Classification_of_text_(1) (1).ipynb",
   "provenance": []
  },
  "kernelspec": {
   "display_name": "Python 3",
   "language": "python",
   "name": "python3"
  },
  "language_info": {
   "codemirror_mode": {
    "name": "ipython",
    "version": 3
   },
   "file_extension": ".py",
   "mimetype": "text/x-python",
   "name": "python",
   "nbconvert_exporter": "python",
   "pygments_lexer": "ipython3",
   "version": "3.8.10"
  }
 },
 "nbformat": 4,
 "nbformat_minor": 5
}
